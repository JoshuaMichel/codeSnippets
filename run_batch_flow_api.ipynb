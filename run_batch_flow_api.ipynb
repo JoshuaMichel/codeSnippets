{
 "cells": [
  {
   "cell_type": "code",
   "execution_count": null,
   "metadata": {},
   "outputs": [],
   "source": [
    "# API code created to run the entire flow of a project to get\n",
    "# a batch model output dataset prediciton\n",
    "import dataiku\n",
    "import os.path\n",
    "import json"
   ]
  },
  {
   "cell_type": "code",
   "execution_count": null,
   "metadata": {},
   "outputs": [],
   "source": [
    "# Get folder path\n",
    "folder = dataiku.Folder(\"insert_folder_id\")\n",
    "folder_path = folder.get_path()"
   ]
  },
  {
   "cell_type": "code",
   "execution_count": null,
   "metadata": {},
   "outputs": [],
   "source": [
    "file_path = os.path.join(folder_path, \"params.json\")\n",
    "\n",
    "# load config\n",
    "with open(file_path) as f:\n",
    "        params = json.load(f)"
   ]
  },
  {
   "cell_type": "code",
   "execution_count": null,
   "metadata": {},
   "outputs": [],
   "source": [
    "def api_py_function(**data):\n",
    "    # establish a connection\n",
    "    dku.set_remote_dss(params['host'],params['api_key'])\n",
    "    client = dku.api_client()\n",
    "\n",
    "    # get the project\n",
    "    project = client.get_project(params['project_key'])\n",
    "    \n",
    "    #trigger the scenario\n",
    "    scenario = project.get_scenario(params['scenario'])\n",
    "    scenario.run_and_wait()\n",
    "\n",
    "    return params['scenario']"
   ]
  },
  {
   "cell_type": "code",
   "execution_count": null,
   "metadata": {},
   "outputs": [],
   "source": []
  }
 ],
 "metadata": {
  "createdOn": 1713295636891,
  "creator": "600235209",
  "customFields": {},
  "hide_input": false,
  "kernelspec": {
   "display_name": "Python in pricing_small (version LEASE_TARGET_FLEETOPP.Auto52924BugFixes of env Datascience_v2)",
   "language": "python",
   "name": "py-dku-containerized-venv-ver-datascience_v2-lease_target_fleetopp-auto52924bugfixes-pricing_small"
  },
  "language_info": {
   "codemirror_mode": {
    "name": "ipython",
    "version": 3
   },
   "file_extension": ".py",
   "mimetype": "text/x-python",
   "name": "python",
   "nbconvert_exporter": "python",
   "pygments_lexer": "ipython3",
   "version": "3.7.17"
  },
  "modifiedBy": "600235209",
  "tags": []
 },
 "nbformat": 4,
 "nbformat_minor": 1
}
